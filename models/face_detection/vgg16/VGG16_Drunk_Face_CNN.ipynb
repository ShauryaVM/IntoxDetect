{
  "nbformat": 4,
  "nbformat_minor": 0,
  "metadata": {
    "colab": {
      "provenance": [],
      "machine_shape": "hm",
      "gpuType": "T4"
    },
    "kernelspec": {
      "name": "python3",
      "display_name": "Python 3"
    },
    "language_info": {
      "name": "python"
    },
    "accelerator": "GPU"
  },
  "cells": [
    {
      "cell_type": "code",
      "execution_count": null,
      "metadata": {
        "colab": {
          "base_uri": "https://localhost:8080/"
        },
        "id": "08TDsycE-xHT",
        "outputId": "a2ccf771-3ad2-476a-b304-0100723df933"
      },
      "outputs": [
        {
          "output_type": "stream",
          "name": "stdout",
          "text": [
            "Downloading data from https://storage.googleapis.com/tensorflow/keras-applications/vgg16/vgg16_weights_tf_dim_ordering_tf_kernels_notop.h5\n",
            "58889256/58889256 [==============================] - 3s 0us/step\n"
          ]
        }
      ],
      "source": [
        "\n",
        "\n",
        "# Directories\n",
        "drunk_dir = '/content/drive/MyDrive/NeurIPS/Code/cropped/drunk'\n",
        "sober_dir = '/content/drive/MyDrive/NeurIPS/Code/cropped/sober'\n",
        "\n",
        "# Load images and labels\n",
        "def load_images_from_folder(folder, label):\n",
        "    images = []\n",
        "    labels = []\n",
        "    for filename in os.listdir(folder):\n",
        "        img = cv2.imread(os.path.join(folder, filename))\n",
        "        if img is not None:\n",
        "            img = cv2.resize(img, (224, 224))\n",
        "            images.append(img)\n",
        "            labels.append(label)\n",
        "    return images, labels\n",
        "\n",
        "drunk_images, drunk_labels = load_images_from_folder(drunk_dir, 1)  # Label 1 for drunk\n",
        "sober_images, sober_labels = load_images_from_folder(sober_dir, 0)  # Label 0 for sober\n",
        "\n",
        "\n"
      ]
    },
    {
      "cell_type": "code",
      "source": [
        "print(len(drunk_labels))\n",
        "print(len(sober_labels))\n",
        "\n",
        "allImages = []\n",
        "allLabels = []\n",
        "\n",
        "for i in range(len(drunk_images)):\n",
        "  allImages.append(drunk_images[i])\n",
        "  allImages.append(sober_images[i])\n",
        "  allLabels.append(drunk_labels[i])\n",
        "  allLabels.append(sober_labels[i])\n",
        "\n",
        "\n",
        "\n",
        "\n",
        "\n",
        "# Combine and split the dataset\n",
        "images = np.array(allImages)\n",
        "labels = np.array(allLabels)\n",
        "\n",
        "# Normalize images\n",
        "images = images.astype('float32')\n",
        "images /= 255.0\n"
      ],
      "metadata": {
        "colab": {
          "base_uri": "https://localhost:8080/"
        },
        "id": "1AOg12JjEcUu",
        "outputId": "05f1ae78-53e6-4fd5-af4b-5ccbf92fd285"
      },
      "execution_count": null,
      "outputs": [
        {
          "output_type": "stream",
          "name": "stdout",
          "text": [
            "4670\n",
            "4670\n"
          ]
        }
      ]
    },
    {
      "cell_type": "code",
      "source": [
        "# Split the dataset\n",
        "train_x, temp_x, train_y, temp_y = train_test_split(images, labels, test_size=0.3, random_state=42, shuffle=False)\n",
        "val_x, test_x, val_y, test_y = train_test_split(temp_x, temp_y, test_size=0.5, random_state=42, shuffle=False)\n",
        "\n",
        "# Data generators\n",
        "train_datagen = ImageDataGenerator(rotation_range=40, width_shift_range=0.2, height_shift_range=0.2, shear_range=0.2, zoom_range=0.2, horizontal_flip=True)\n",
        "val_datagen = ImageDataGenerator()\n",
        "test_datagen = ImageDataGenerator()\n",
        "\n",
        "train_generator = train_datagen.flow(train_x, train_y, batch_size=32)\n",
        "val_generator = val_datagen.flow(val_x, val_y, batch_size=32)\n",
        "#test_generator = test_datagen.flow(test_x, test_y, batch_size=32)\n",
        "\n",
        "# Load VGG16 model\n",
        "base_model = VGG16(input_shape=(224, 224, 3), include_top=False, weights='imagenet')\n",
        "\n",
        "# Freeze the base_model\n",
        "for layer in base_model.layers:\n",
        "    layer.trainable = False\n",
        "\n",
        "# Add custom layers\n",
        "x = layers.Flatten()(base_model.output)\n",
        "x = layers.Dense(512, activation='relu')(x)\n",
        "x = layers.Dropout(0.5)(x)\n",
        "x = layers.Dense(1, activation='sigmoid')(x)  # Binary classification (drunk or sober)\n",
        "\n",
        "model = Model(inputs=base_model.input, outputs=x)\n"
      ],
      "metadata": {
        "id": "7KikPR_l-_Ht"
      },
      "execution_count": null,
      "outputs": []
    },
    {
      "cell_type": "code",
      "source": [
        "import numpy as np\n",
        "import tensorflow as tf\n",
        "import os\n",
        "import cv2\n",
        "from tensorflow.keras.applications import VGG16\n",
        "from tensorflow.keras import layers, Model\n",
        "from tensorflow.keras.preprocessing.image import ImageDataGenerator\n",
        "from tensorflow.keras.optimizers import Adam\n",
        "from tensorflow.keras.metrics import Recall, Precision, F1Score\n",
        "from sklearn.model_selection import train_test_split\n",
        "\n",
        "from google.colab import drive\n",
        "drive.mount('/content/drive')"
      ],
      "metadata": {
        "colab": {
          "base_uri": "https://localhost:8080/"
        },
        "id": "3VkpAKiP8Eq9",
        "outputId": "992a2a96-558d-4569-ce23-17b82d8a23a9"
      },
      "execution_count": null,
      "outputs": [
        {
          "output_type": "stream",
          "name": "stdout",
          "text": [
            "Mounted at /content/drive\n"
          ]
        }
      ]
    },
    {
      "cell_type": "code",
      "source": [
        "# Compile the model\n",
        "model.compile(optimizer=Adam(lr=0.001), loss='binary_crossentropy', metrics=['accuracy', Recall(), Precision()])\n",
        "model.summary()\n",
        "\n",
        "# Train the model\n",
        "early_stopping = tf.keras.callbacks.EarlyStopping(monitor='val_loss', patience=3, restore_best_weights=True)\n",
        "\n",
        "history = model.fit(train_generator, epochs=30, validation_data=val_generator, callbacks=[early_stopping])"
      ],
      "metadata": {
        "colab": {
          "base_uri": "https://localhost:8080/"
        },
        "id": "AaTOg9QUHbbY",
        "outputId": "44d9fb89-98f1-4787-ac44-20f686120610"
      },
      "execution_count": null,
      "outputs": [
        {
          "output_type": "stream",
          "name": "stderr",
          "text": [
            "WARNING:absl:`lr` is deprecated in Keras optimizer, please use `learning_rate` or use the legacy optimizer, e.g.,tf.keras.optimizers.legacy.Adam.\n"
          ]
        },
        {
          "output_type": "stream",
          "name": "stdout",
          "text": [
            "Model: \"model_4\"\n",
            "_________________________________________________________________\n",
            " Layer (type)                Output Shape              Param #   \n",
            "=================================================================\n",
            " input_5 (InputLayer)        [(None, 224, 224, 3)]     0         \n",
            "                                                                 \n",
            " block1_conv1 (Conv2D)       (None, 224, 224, 64)      1792      \n",
            "                                                                 \n",
            " block1_conv2 (Conv2D)       (None, 224, 224, 64)      36928     \n",
            "                                                                 \n",
            " block1_pool (MaxPooling2D)  (None, 112, 112, 64)      0         \n",
            "                                                                 \n",
            " block2_conv1 (Conv2D)       (None, 112, 112, 128)     73856     \n",
            "                                                                 \n",
            " block2_conv2 (Conv2D)       (None, 112, 112, 128)     147584    \n",
            "                                                                 \n",
            " block2_pool (MaxPooling2D)  (None, 56, 56, 128)       0         \n",
            "                                                                 \n",
            " block3_conv1 (Conv2D)       (None, 56, 56, 256)       295168    \n",
            "                                                                 \n",
            " block3_conv2 (Conv2D)       (None, 56, 56, 256)       590080    \n",
            "                                                                 \n",
            " block3_conv3 (Conv2D)       (None, 56, 56, 256)       590080    \n",
            "                                                                 \n",
            " block3_pool (MaxPooling2D)  (None, 28, 28, 256)       0         \n",
            "                                                                 \n",
            " block4_conv1 (Conv2D)       (None, 28, 28, 512)       1180160   \n",
            "                                                                 \n",
            " block4_conv2 (Conv2D)       (None, 28, 28, 512)       2359808   \n",
            "                                                                 \n",
            " block4_conv3 (Conv2D)       (None, 28, 28, 512)       2359808   \n",
            "                                                                 \n",
            " block4_pool (MaxPooling2D)  (None, 14, 14, 512)       0         \n",
            "                                                                 \n",
            " block5_conv1 (Conv2D)       (None, 14, 14, 512)       2359808   \n",
            "                                                                 \n",
            " block5_conv2 (Conv2D)       (None, 14, 14, 512)       2359808   \n",
            "                                                                 \n",
            " block5_conv3 (Conv2D)       (None, 14, 14, 512)       2359808   \n",
            "                                                                 \n",
            " block5_pool (MaxPooling2D)  (None, 7, 7, 512)         0         \n",
            "                                                                 \n",
            " flatten_4 (Flatten)         (None, 25088)             0         \n",
            "                                                                 \n",
            " dense_8 (Dense)             (None, 512)               12845568  \n",
            "                                                                 \n",
            " dropout_4 (Dropout)         (None, 512)               0         \n",
            "                                                                 \n",
            " dense_9 (Dense)             (None, 1)                 513       \n",
            "                                                                 \n",
            "=================================================================\n",
            "Total params: 27560769 (105.14 MB)\n",
            "Trainable params: 12846081 (49.00 MB)\n",
            "Non-trainable params: 14714688 (56.13 MB)\n",
            "_________________________________________________________________\n",
            "Epoch 1/30\n",
            "205/205 [==============================] - 70s 336ms/step - loss: 0.5253 - accuracy: 0.7221 - recall_6: 0.7993 - precision_6: 0.6924 - val_loss: 0.4037 - val_accuracy: 0.8087 - val_recall_6: 0.8474 - val_precision_6: 0.7868\n",
            "Epoch 2/30\n",
            "205/205 [==============================] - 70s 341ms/step - loss: 0.5311 - accuracy: 0.7088 - recall_6: 0.8177 - precision_6: 0.6714 - val_loss: 0.4481 - val_accuracy: 0.7866 - val_recall_6: 0.9116 - val_precision_6: 0.7295\n",
            "Epoch 3/30\n",
            "205/205 [==============================] - 70s 340ms/step - loss: 0.5377 - accuracy: 0.7028 - recall_6: 0.8278 - precision_6: 0.6623 - val_loss: 0.4264 - val_accuracy: 0.8137 - val_recall_6: 0.8673 - val_precision_6: 0.7835\n",
            "Epoch 4/30\n",
            "205/205 [==============================] - 69s 337ms/step - loss: 0.5127 - accuracy: 0.7166 - recall_6: 0.8342 - precision_6: 0.6753 - val_loss: 0.4239 - val_accuracy: 0.8037 - val_recall_6: 0.8531 - val_precision_6: 0.7766\n"
          ]
        }
      ]
    },
    {
      "cell_type": "code",
      "source": [
        "# Evaluate the model\n",
        "test_loss, test_acc, test_recall, test_precision = model.evaluate(test_generator)\n",
        "print(f'Test accuracy: {test_acc}')\n",
        "print(f'Test Recall: {test_recall}')\n",
        "print(f'Test Precision: {test_precision}')"
      ],
      "metadata": {
        "id": "thJJ5RxROlCo",
        "colab": {
          "base_uri": "https://localhost:8080/"
        },
        "outputId": "462cb0f1-7d22-48cf-b527-db00e451371b"
      },
      "execution_count": null,
      "outputs": [
        {
          "output_type": "stream",
          "name": "stdout",
          "text": [
            "48/48 [==============================] - 6s 130ms/step - loss: 0.4099 - accuracy: 0.8161 - recall_6: 0.8610 - precision_6: 0.8092\n",
            "Test accuracy: 0.8161375522613525\n",
            "Test Recall: 0.8610085844993591\n",
            "Test Precision: 0.8092485666275024\n"
          ]
        }
      ]
    },
    {
      "cell_type": "code",
      "source": [
        "print(len(test_x))"
      ],
      "metadata": {
        "colab": {
          "base_uri": "https://localhost:8080/"
        },
        "id": "NyLl7qABNYaP",
        "outputId": "a755d21b-ac49-45b0-fdfc-82e339f49cc1"
      },
      "execution_count": null,
      "outputs": [
        {
          "output_type": "stream",
          "name": "stdout",
          "text": [
            "1401\n"
          ]
        }
      ]
    }
  ]
}